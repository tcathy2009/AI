{
  "nbformat": 4,
  "nbformat_minor": 0,
  "metadata": {
    "colab": {
      "provenance": [],
      "authorship_tag": "ABX9TyP6nVpqgs05yUN7WTxxSAte",
      "include_colab_link": true
    },
    "kernelspec": {
      "name": "python3",
      "display_name": "Python 3"
    },
    "language_info": {
      "name": "python"
    }
  },
  "cells": [
    {
      "cell_type": "markdown",
      "metadata": {
        "id": "view-in-github",
        "colab_type": "text"
      },
      "source": [
        "<a href=\"https://colab.research.google.com/github/tcathy2009/AI/blob/main/Demo.ipynb\" target=\"_parent\"><img src=\"https://colab.research.google.com/assets/colab-badge.svg\" alt=\"Open In Colab\"/></a>"
      ]
    },
    {
      "cell_type": "code",
      "execution_count": 1,
      "metadata": {
        "colab": {
          "base_uri": "https://localhost:8080/"
        },
        "id": "tC0nq2x5zQSX",
        "outputId": "e225cbf2-2f3d-4bde-fecf-9da7f65a68bc"
      },
      "outputs": [
        {
          "output_type": "stream",
          "name": "stdout",
          "text": [
            "Hello Colab!!\n"
          ]
        }
      ],
      "source": [
        "print('Hello Colab!!')"
      ]
    },
    {
      "cell_type": "code",
      "source": [
        "name = input(\"請問大名?\")\n",
        "print('Hello '+ name)"
      ],
      "metadata": {
        "colab": {
          "base_uri": "https://localhost:8080/"
        },
        "id": "qrxcQo6p0h3i",
        "outputId": "061c8e6e-e04b-43b8-e3d5-15b9d9f95e6a"
      },
      "execution_count": 3,
      "outputs": [
        {
          "output_type": "stream",
          "name": "stdout",
          "text": [
            "請問大名?Cathy\n",
            "Hello Cathy\n"
          ]
        }
      ]
    },
    {
      "cell_type": "markdown",
      "source": [
        "# **可在文字區塊放筆記**::\n",
        "\n",
        "---\n",
        "\n",
        "\n",
        "\n",
        "![demo1.png](data:image/png;base64,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)"
      ],
      "metadata": {
        "id": "Bz8h1Y0q3kpx"
      }
    }
  ]
}