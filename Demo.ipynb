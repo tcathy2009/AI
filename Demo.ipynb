{
  "nbformat": 4,
  "nbformat_minor": 0,
  "metadata": {
    "colab": {
      "provenance": [],
      "toc_visible": true,
      "authorship_tag": "ABX9TyM/QMK218leKRCuzgWhguHE",
      "include_colab_link": true
    },
    "kernelspec": {
      "name": "python3",
      "display_name": "Python 3"
    },
    "language_info": {
      "name": "python"
    }
  },
  "cells": [
    {
      "cell_type": "markdown",
      "metadata": {
        "id": "view-in-github",
        "colab_type": "text"
      },
      "source": [
        "<a href=\"https://colab.research.google.com/github/tcathy2009/AI/blob/main/Demo.ipynb\" target=\"_parent\"><img src=\"https://colab.research.google.com/assets/colab-badge.svg\" alt=\"Open In Colab\"/></a>"
      ]
    },
    {
      "cell_type": "markdown",
      "source": [
        "# Hello"
      ],
      "metadata": {
        "id": "A3gC_658sPBc"
      }
    },
    {
      "cell_type": "code",
      "execution_count": null,
      "metadata": {
        "colab": {
          "base_uri": "https://localhost:8080/"
        },
        "id": "tC0nq2x5zQSX",
        "outputId": "e225cbf2-2f3d-4bde-fecf-9da7f65a68bc"
      },
      "outputs": [
        {
          "output_type": "stream",
          "name": "stdout",
          "text": [
            "Hello Colab!!\n"
          ]
        }
      ],
      "source": [
        "print('Hello Colab!!')"
      ]
    },
    {
      "cell_type": "code",
      "source": [
        "name = input(\"請問大名?\")\n",
        "print('Hello '+ name)"
      ],
      "metadata": {
        "colab": {
          "base_uri": "https://localhost:8080/"
        },
        "id": "qrxcQo6p0h3i",
        "outputId": "061c8e6e-e04b-43b8-e3d5-15b9d9f95e6a"
      },
      "execution_count": null,
      "outputs": [
        {
          "output_type": "stream",
          "name": "stdout",
          "text": [
            "請問大名?Cathy\n",
            "Hello Cathy\n"
          ]
        }
      ]
    },
    {
      "cell_type": "markdown",
      "source": [
        "**可在文字區塊放筆記**::\n",
        "\n",
        "---\n",
        "\n",
        "\n",
        "\n",
        "![demo1.png](data:image/png;base64,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)"
      ],
      "metadata": {
        "id": "Bz8h1Y0q3kpx"
      }
    },
    {
      "cell_type": "markdown",
      "source": [
        "# titanic tourtal"
      ],
      "metadata": {
        "id": "USbAM2Wesn2I"
      }
    },
    {
      "cell_type": "markdown",
      "source": [
        "Demo: 直接上傳data file到content/data folder使用\n",
        "1. 在content建立data folder\n",
        "2. upload file"
      ],
      "metadata": {
        "id": "XoKxp4JiszpI"
      }
    },
    {
      "cell_type": "code",
      "source": [
        "import numpy as np\n",
        "import pandas as pd\n",
        "\n",
        "# print data file\n",
        "import os\n",
        "for dirname, _, filenames in os.walk('/content/data'):\n",
        "    for filename in filenames:\n",
        "        print(os.path.join(dirname, filename))"
      ],
      "metadata": {
        "colab": {
          "base_uri": "https://localhost:8080/"
        },
        "id": "W_ZxFsMTs3yI",
        "outputId": "b13de689-1678-46ef-c89b-d282160b86ec"
      },
      "execution_count": 1,
      "outputs": [
        {
          "output_type": "stream",
          "name": "stdout",
          "text": [
            "/content/data/train.csv\n",
            "/content/data/gender_submission.csv\n",
            "/content/data/test.csv\n"
          ]
        }
      ]
    },
    {
      "cell_type": "code",
      "source": [
        "train_data = pd.read_csv(\"/content/data/train.csv\")\n",
        "train_data.head(3)\n"
      ],
      "metadata": {
        "colab": {
          "base_uri": "https://localhost:8080/",
          "height": 143
        },
        "id": "lcynTYvOtceN",
        "outputId": "d4aec405-6be9-488c-9324-77a5ff1432e1"
      },
      "execution_count": 4,
      "outputs": [
        {
          "output_type": "execute_result",
          "data": {
            "text/plain": [
              "   PassengerId  Survived  Pclass  \\\n",
              "0            1         0       3   \n",
              "1            2         1       1   \n",
              "2            3         1       3   \n",
              "\n",
              "                                                Name     Sex   Age  SibSp  \\\n",
              "0                            Braund, Mr. Owen Harris    male  22.0      1   \n",
              "1  Cumings, Mrs. John Bradley (Florence Briggs Th...  female  38.0      1   \n",
              "2                             Heikkinen, Miss. Laina  female  26.0      0   \n",
              "\n",
              "   Parch            Ticket     Fare Cabin Embarked  \n",
              "0      0         A/5 21171   7.2500   NaN        S  \n",
              "1      0          PC 17599  71.2833   C85        C  \n",
              "2      0  STON/O2. 3101282   7.9250   NaN        S  "
            ],
            "text/html": [
              "\n",
              "  <div id=\"df-b8fb9e6b-4344-4cae-8dd1-9213ef3ecec7\" class=\"colab-df-container\">\n",
              "    <div>\n",
              "<style scoped>\n",
              "    .dataframe tbody tr th:only-of-type {\n",
              "        vertical-align: middle;\n",
              "    }\n",
              "\n",
              "    .dataframe tbody tr th {\n",
              "        vertical-align: top;\n",
              "    }\n",
              "\n",
              "    .dataframe thead th {\n",
              "        text-align: right;\n",
              "    }\n",
              "</style>\n",
              "<table border=\"1\" class=\"dataframe\">\n",
              "  <thead>\n",
              "    <tr style=\"text-align: right;\">\n",
              "      <th></th>\n",
              "      <th>PassengerId</th>\n",
              "      <th>Survived</th>\n",
              "      <th>Pclass</th>\n",
              "      <th>Name</th>\n",
              "      <th>Sex</th>\n",
              "      <th>Age</th>\n",
              "      <th>SibSp</th>\n",
              "      <th>Parch</th>\n",
              "      <th>Ticket</th>\n",
              "      <th>Fare</th>\n",
              "      <th>Cabin</th>\n",
              "      <th>Embarked</th>\n",
              "    </tr>\n",
              "  </thead>\n",
              "  <tbody>\n",
              "    <tr>\n",
              "      <th>0</th>\n",
              "      <td>1</td>\n",
              "      <td>0</td>\n",
              "      <td>3</td>\n",
              "      <td>Braund, Mr. Owen Harris</td>\n",
              "      <td>male</td>\n",
              "      <td>22.0</td>\n",
              "      <td>1</td>\n",
              "      <td>0</td>\n",
              "      <td>A/5 21171</td>\n",
              "      <td>7.2500</td>\n",
              "      <td>NaN</td>\n",
              "      <td>S</td>\n",
              "    </tr>\n",
              "    <tr>\n",
              "      <th>1</th>\n",
              "      <td>2</td>\n",
              "      <td>1</td>\n",
              "      <td>1</td>\n",
              "      <td>Cumings, Mrs. John Bradley (Florence Briggs Th...</td>\n",
              "      <td>female</td>\n",
              "      <td>38.0</td>\n",
              "      <td>1</td>\n",
              "      <td>0</td>\n",
              "      <td>PC 17599</td>\n",
              "      <td>71.2833</td>\n",
              "      <td>C85</td>\n",
              "      <td>C</td>\n",
              "    </tr>\n",
              "    <tr>\n",
              "      <th>2</th>\n",
              "      <td>3</td>\n",
              "      <td>1</td>\n",
              "      <td>3</td>\n",
              "      <td>Heikkinen, Miss. Laina</td>\n",
              "      <td>female</td>\n",
              "      <td>26.0</td>\n",
              "      <td>0</td>\n",
              "      <td>0</td>\n",
              "      <td>STON/O2. 3101282</td>\n",
              "      <td>7.9250</td>\n",
              "      <td>NaN</td>\n",
              "      <td>S</td>\n",
              "    </tr>\n",
              "  </tbody>\n",
              "</table>\n",
              "</div>\n",
              "    <div class=\"colab-df-buttons\">\n",
              "\n",
              "  <div class=\"colab-df-container\">\n",
              "    <button class=\"colab-df-convert\" onclick=\"convertToInteractive('df-b8fb9e6b-4344-4cae-8dd1-9213ef3ecec7')\"\n",
              "            title=\"Convert this dataframe to an interactive table.\"\n",
              "            style=\"display:none;\">\n",
              "\n",
              "  <svg xmlns=\"http://www.w3.org/2000/svg\" height=\"24px\" viewBox=\"0 -960 960 960\">\n",
              "    <path d=\"M120-120v-720h720v720H120Zm60-500h600v-160H180v160Zm220 220h160v-160H400v160Zm0 220h160v-160H400v160ZM180-400h160v-160H180v160Zm440 0h160v-160H620v160ZM180-180h160v-160H180v160Zm440 0h160v-160H620v160Z\"/>\n",
              "  </svg>\n",
              "    </button>\n",
              "\n",
              "  <style>\n",
              "    .colab-df-container {\n",
              "      display:flex;\n",
              "      gap: 12px;\n",
              "    }\n",
              "\n",
              "    .colab-df-convert {\n",
              "      background-color: #E8F0FE;\n",
              "      border: none;\n",
              "      border-radius: 50%;\n",
              "      cursor: pointer;\n",
              "      display: none;\n",
              "      fill: #1967D2;\n",
              "      height: 32px;\n",
              "      padding: 0 0 0 0;\n",
              "      width: 32px;\n",
              "    }\n",
              "\n",
              "    .colab-df-convert:hover {\n",
              "      background-color: #E2EBFA;\n",
              "      box-shadow: 0px 1px 2px rgba(60, 64, 67, 0.3), 0px 1px 3px 1px rgba(60, 64, 67, 0.15);\n",
              "      fill: #174EA6;\n",
              "    }\n",
              "\n",
              "    .colab-df-buttons div {\n",
              "      margin-bottom: 4px;\n",
              "    }\n",
              "\n",
              "    [theme=dark] .colab-df-convert {\n",
              "      background-color: #3B4455;\n",
              "      fill: #D2E3FC;\n",
              "    }\n",
              "\n",
              "    [theme=dark] .colab-df-convert:hover {\n",
              "      background-color: #434B5C;\n",
              "      box-shadow: 0px 1px 3px 1px rgba(0, 0, 0, 0.15);\n",
              "      filter: drop-shadow(0px 1px 2px rgba(0, 0, 0, 0.3));\n",
              "      fill: #FFFFFF;\n",
              "    }\n",
              "  </style>\n",
              "\n",
              "    <script>\n",
              "      const buttonEl =\n",
              "        document.querySelector('#df-b8fb9e6b-4344-4cae-8dd1-9213ef3ecec7 button.colab-df-convert');\n",
              "      buttonEl.style.display =\n",
              "        google.colab.kernel.accessAllowed ? 'block' : 'none';\n",
              "\n",
              "      async function convertToInteractive(key) {\n",
              "        const element = document.querySelector('#df-b8fb9e6b-4344-4cae-8dd1-9213ef3ecec7');\n",
              "        const dataTable =\n",
              "          await google.colab.kernel.invokeFunction('convertToInteractive',\n",
              "                                                    [key], {});\n",
              "        if (!dataTable) return;\n",
              "\n",
              "        const docLinkHtml = 'Like what you see? Visit the ' +\n",
              "          '<a target=\"_blank\" href=https://colab.research.google.com/notebooks/data_table.ipynb>data table notebook</a>'\n",
              "          + ' to learn more about interactive tables.';\n",
              "        element.innerHTML = '';\n",
              "        dataTable['output_type'] = 'display_data';\n",
              "        await google.colab.output.renderOutput(dataTable, element);\n",
              "        const docLink = document.createElement('div');\n",
              "        docLink.innerHTML = docLinkHtml;\n",
              "        element.appendChild(docLink);\n",
              "      }\n",
              "    </script>\n",
              "  </div>\n",
              "\n",
              "    </div>\n",
              "  </div>\n"
            ]
          },
          "metadata": {},
          "execution_count": 4
        }
      ]
    },
    {
      "cell_type": "code",
      "source": [
        "test_data = pd.read_csv(\"/content/data/test.csv\")\n",
        "test_data.head(3)"
      ],
      "metadata": {
        "colab": {
          "base_uri": "https://localhost:8080/",
          "height": 143
        },
        "id": "ZBGWS1LJtvOy",
        "outputId": "65a168c5-b856-4e7d-8e44-7ffd8acff5b7"
      },
      "execution_count": 5,
      "outputs": [
        {
          "output_type": "execute_result",
          "data": {
            "text/plain": [
              "   PassengerId  Pclass                              Name     Sex   Age  SibSp  \\\n",
              "0          892       3                  Kelly, Mr. James    male  34.5      0   \n",
              "1          893       3  Wilkes, Mrs. James (Ellen Needs)  female  47.0      1   \n",
              "2          894       2         Myles, Mr. Thomas Francis    male  62.0      0   \n",
              "\n",
              "   Parch  Ticket    Fare Cabin Embarked  \n",
              "0      0  330911  7.8292   NaN        Q  \n",
              "1      0  363272  7.0000   NaN        S  \n",
              "2      0  240276  9.6875   NaN        Q  "
            ],
            "text/html": [
              "\n",
              "  <div id=\"df-f86d2822-40cb-4080-b9c4-d99b3863b935\" class=\"colab-df-container\">\n",
              "    <div>\n",
              "<style scoped>\n",
              "    .dataframe tbody tr th:only-of-type {\n",
              "        vertical-align: middle;\n",
              "    }\n",
              "\n",
              "    .dataframe tbody tr th {\n",
              "        vertical-align: top;\n",
              "    }\n",
              "\n",
              "    .dataframe thead th {\n",
              "        text-align: right;\n",
              "    }\n",
              "</style>\n",
              "<table border=\"1\" class=\"dataframe\">\n",
              "  <thead>\n",
              "    <tr style=\"text-align: right;\">\n",
              "      <th></th>\n",
              "      <th>PassengerId</th>\n",
              "      <th>Pclass</th>\n",
              "      <th>Name</th>\n",
              "      <th>Sex</th>\n",
              "      <th>Age</th>\n",
              "      <th>SibSp</th>\n",
              "      <th>Parch</th>\n",
              "      <th>Ticket</th>\n",
              "      <th>Fare</th>\n",
              "      <th>Cabin</th>\n",
              "      <th>Embarked</th>\n",
              "    </tr>\n",
              "  </thead>\n",
              "  <tbody>\n",
              "    <tr>\n",
              "      <th>0</th>\n",
              "      <td>892</td>\n",
              "      <td>3</td>\n",
              "      <td>Kelly, Mr. James</td>\n",
              "      <td>male</td>\n",
              "      <td>34.5</td>\n",
              "      <td>0</td>\n",
              "      <td>0</td>\n",
              "      <td>330911</td>\n",
              "      <td>7.8292</td>\n",
              "      <td>NaN</td>\n",
              "      <td>Q</td>\n",
              "    </tr>\n",
              "    <tr>\n",
              "      <th>1</th>\n",
              "      <td>893</td>\n",
              "      <td>3</td>\n",
              "      <td>Wilkes, Mrs. James (Ellen Needs)</td>\n",
              "      <td>female</td>\n",
              "      <td>47.0</td>\n",
              "      <td>1</td>\n",
              "      <td>0</td>\n",
              "      <td>363272</td>\n",
              "      <td>7.0000</td>\n",
              "      <td>NaN</td>\n",
              "      <td>S</td>\n",
              "    </tr>\n",
              "    <tr>\n",
              "      <th>2</th>\n",
              "      <td>894</td>\n",
              "      <td>2</td>\n",
              "      <td>Myles, Mr. Thomas Francis</td>\n",
              "      <td>male</td>\n",
              "      <td>62.0</td>\n",
              "      <td>0</td>\n",
              "      <td>0</td>\n",
              "      <td>240276</td>\n",
              "      <td>9.6875</td>\n",
              "      <td>NaN</td>\n",
              "      <td>Q</td>\n",
              "    </tr>\n",
              "  </tbody>\n",
              "</table>\n",
              "</div>\n",
              "    <div class=\"colab-df-buttons\">\n",
              "\n",
              "  <div class=\"colab-df-container\">\n",
              "    <button class=\"colab-df-convert\" onclick=\"convertToInteractive('df-f86d2822-40cb-4080-b9c4-d99b3863b935')\"\n",
              "            title=\"Convert this dataframe to an interactive table.\"\n",
              "            style=\"display:none;\">\n",
              "\n",
              "  <svg xmlns=\"http://www.w3.org/2000/svg\" height=\"24px\" viewBox=\"0 -960 960 960\">\n",
              "    <path d=\"M120-120v-720h720v720H120Zm60-500h600v-160H180v160Zm220 220h160v-160H400v160Zm0 220h160v-160H400v160ZM180-400h160v-160H180v160Zm440 0h160v-160H620v160ZM180-180h160v-160H180v160Zm440 0h160v-160H620v160Z\"/>\n",
              "  </svg>\n",
              "    </button>\n",
              "\n",
              "  <style>\n",
              "    .colab-df-container {\n",
              "      display:flex;\n",
              "      gap: 12px;\n",
              "    }\n",
              "\n",
              "    .colab-df-convert {\n",
              "      background-color: #E8F0FE;\n",
              "      border: none;\n",
              "      border-radius: 50%;\n",
              "      cursor: pointer;\n",
              "      display: none;\n",
              "      fill: #1967D2;\n",
              "      height: 32px;\n",
              "      padding: 0 0 0 0;\n",
              "      width: 32px;\n",
              "    }\n",
              "\n",
              "    .colab-df-convert:hover {\n",
              "      background-color: #E2EBFA;\n",
              "      box-shadow: 0px 1px 2px rgba(60, 64, 67, 0.3), 0px 1px 3px 1px rgba(60, 64, 67, 0.15);\n",
              "      fill: #174EA6;\n",
              "    }\n",
              "\n",
              "    .colab-df-buttons div {\n",
              "      margin-bottom: 4px;\n",
              "    }\n",
              "\n",
              "    [theme=dark] .colab-df-convert {\n",
              "      background-color: #3B4455;\n",
              "      fill: #D2E3FC;\n",
              "    }\n",
              "\n",
              "    [theme=dark] .colab-df-convert:hover {\n",
              "      background-color: #434B5C;\n",
              "      box-shadow: 0px 1px 3px 1px rgba(0, 0, 0, 0.15);\n",
              "      filter: drop-shadow(0px 1px 2px rgba(0, 0, 0, 0.3));\n",
              "      fill: #FFFFFF;\n",
              "    }\n",
              "  </style>\n",
              "\n",
              "    <script>\n",
              "      const buttonEl =\n",
              "        document.querySelector('#df-f86d2822-40cb-4080-b9c4-d99b3863b935 button.colab-df-convert');\n",
              "      buttonEl.style.display =\n",
              "        google.colab.kernel.accessAllowed ? 'block' : 'none';\n",
              "\n",
              "      async function convertToInteractive(key) {\n",
              "        const element = document.querySelector('#df-f86d2822-40cb-4080-b9c4-d99b3863b935');\n",
              "        const dataTable =\n",
              "          await google.colab.kernel.invokeFunction('convertToInteractive',\n",
              "                                                    [key], {});\n",
              "        if (!dataTable) return;\n",
              "\n",
              "        const docLinkHtml = 'Like what you see? Visit the ' +\n",
              "          '<a target=\"_blank\" href=https://colab.research.google.com/notebooks/data_table.ipynb>data table notebook</a>'\n",
              "          + ' to learn more about interactive tables.';\n",
              "        element.innerHTML = '';\n",
              "        dataTable['output_type'] = 'display_data';\n",
              "        await google.colab.output.renderOutput(dataTable, element);\n",
              "        const docLink = document.createElement('div');\n",
              "        docLink.innerHTML = docLinkHtml;\n",
              "        element.appendChild(docLink);\n",
              "      }\n",
              "    </script>\n",
              "  </div>\n",
              "\n",
              "    </div>\n",
              "  </div>\n"
            ]
          },
          "metadata": {},
          "execution_count": 5
        }
      ]
    },
    {
      "cell_type": "markdown",
      "source": [
        "左列的變數清單可以即時觀看變數內容"
      ],
      "metadata": {
        "id": "1nXuVDZZt25K"
      }
    },
    {
      "cell_type": "code",
      "source": [
        "women = train_data.loc[train_data.Sex == 'female'][\"Survived\"]\n",
        "rate_women = sum(women)/len(women)\n",
        "\n",
        "print(\"% of women who survived:\", rate_women)"
      ],
      "metadata": {
        "colab": {
          "base_uri": "https://localhost:8080/"
        },
        "id": "ZAF5ECV6trbi",
        "outputId": "8d30eefd-7f9a-422c-f0d5-29f8cb9c8284"
      },
      "execution_count": 8,
      "outputs": [
        {
          "output_type": "stream",
          "name": "stdout",
          "text": [
            "% of women who survived: 0.7420382165605095\n"
          ]
        }
      ]
    },
    {
      "cell_type": "code",
      "source": [
        "men = train_data.loc[train_data.Sex == 'male'][\"Survived\"]\n",
        "rate_men = sum(men)/len(men)\n",
        "\n",
        "print(\"% of men who survived:\", rate_men)"
      ],
      "metadata": {
        "colab": {
          "base_uri": "https://localhost:8080/"
        },
        "id": "WQdVCMC_uHBa",
        "outputId": "a52f286a-0cb2-448c-e3ea-e11b07ceb36e"
      },
      "execution_count": 9,
      "outputs": [
        {
          "output_type": "stream",
          "name": "stdout",
          "text": [
            "% of men who survived: 0.18890814558058924\n"
          ]
        }
      ]
    },
    {
      "cell_type": "code",
      "source": [
        "from sklearn.ensemble import RandomForestClassifier\n",
        "\n",
        "y = train_data[\"Survived\"]\n",
        "\n",
        "features = [\"Pclass\", \"Sex\", \"SibSp\", \"Parch\"]\n",
        "X = pd.get_dummies(train_data[features])\n",
        "X_test = pd.get_dummies(test_data[features])\n",
        "\n",
        "model = RandomForestClassifier(n_estimators=100, max_depth=5, random_state=1)\n",
        "model.fit(X, y)\n",
        "predictions = model.predict(X_test)\n",
        "\n",
        "output = pd.DataFrame({'PassengerId': test_data.PassengerId, 'Survived': predictions})\n",
        "output.to_csv('submission.csv', index=False)\n",
        "print(\"Your submission was successfully saved!\")"
      ],
      "metadata": {
        "colab": {
          "base_uri": "https://localhost:8080/"
        },
        "id": "iKUuwfTbuP6D",
        "outputId": "cdc658e3-b126-4564-94b7-4c874a5aa98e"
      },
      "execution_count": 12,
      "outputs": [
        {
          "output_type": "stream",
          "name": "stdout",
          "text": [
            "Your submission was successfully saved!\n"
          ]
        }
      ]
    },
    {
      "cell_type": "markdown",
      "source": [
        "# mount google drive"
      ],
      "metadata": {
        "id": "9jzWiIzgyGFT"
      }
    },
    {
      "cell_type": "markdown",
      "source": [
        "output file以寫入content folder, 不會主動將file存到雲端硬碟\n",
        "1. 可點選file, 下載檔案到本機\n",
        "2. 可透過mount google drive存檔"
      ],
      "metadata": {
        "id": "zRRoCFSUuZew"
      }
    },
    {
      "cell_type": "code",
      "source": [
        "import pandas as pd\n",
        "from google.colab import drive\n",
        "drive.mount('/content/gdrive')\n",
        "# 出現提示欄進行授權, 完成帳戶授權後, 可在content看到gdrive以mount到google drive"
      ],
      "metadata": {
        "colab": {
          "base_uri": "https://localhost:8080/"
        },
        "id": "n4ujvEU_vMUc",
        "outputId": "3ce7cfdd-4348-4783-a60e-bb339397a7ed"
      },
      "execution_count": 13,
      "outputs": [
        {
          "output_type": "stream",
          "name": "stdout",
          "text": [
            "Mounted at /content/gdrive\n"
          ]
        }
      ]
    },
    {
      "cell_type": "code",
      "source": [
        "output.to_csv('/content/gdrive/MyDrive/titanic_output.csv', index=False)\n",
        "# 會將csv檔存放在google drive根目錄\n"
      ],
      "metadata": {
        "id": "jd5J6aTuvmhn"
      },
      "execution_count": 14,
      "outputs": []
    },
    {
      "cell_type": "code",
      "source": [
        "# 從google drive讀檔\n",
        "df_verify = pd.read_csv('/content/gdrive/MyDrive/titanic_output.csv')\n",
        "print(df_verify)"
      ],
      "metadata": {
        "colab": {
          "base_uri": "https://localhost:8080/"
        },
        "id": "_l8qKF5EwE5k",
        "outputId": "fde86554-f485-42d1-e912-bc967f625da2"
      },
      "execution_count": 17,
      "outputs": [
        {
          "output_type": "stream",
          "name": "stdout",
          "text": [
            "     PassengerId  Survived\n",
            "0            892         0\n",
            "1            893         1\n",
            "2            894         0\n",
            "3            895         0\n",
            "4            896         1\n",
            "..           ...       ...\n",
            "413         1305         0\n",
            "414         1306         1\n",
            "415         1307         0\n",
            "416         1308         0\n",
            "417         1309         0\n",
            "\n",
            "[418 rows x 2 columns]\n"
          ]
        }
      ]
    },
    {
      "cell_type": "code",
      "source": [
        "# save model\n",
        "import joblib\n",
        "\n",
        "joblib.dump(model, \"/content/gdrive/MyDrive/model/rf.joblib\")"
      ],
      "metadata": {
        "colab": {
          "base_uri": "https://localhost:8080/"
        },
        "id": "zJKokPZYwZ7F",
        "outputId": "97702c68-fd1b-4b56-b2ee-6120eca971f9"
      },
      "execution_count": 18,
      "outputs": [
        {
          "output_type": "execute_result",
          "data": {
            "text/plain": [
              "['/content/gdrive/MyDrive/model/rf.joblib']"
            ]
          },
          "metadata": {},
          "execution_count": 18
        }
      ]
    },
    {
      "cell_type": "code",
      "source": [
        "# 看看model file\n",
        "!ls /content/gdrive/MyDrive/model"
      ],
      "metadata": {
        "colab": {
          "base_uri": "https://localhost:8080/"
        },
        "id": "yXobdzslwsy0",
        "outputId": "dcff46e9-171d-42b1-83a4-140af53cf1da"
      },
      "execution_count": 19,
      "outputs": [
        {
          "output_type": "stream",
          "name": "stdout",
          "text": [
            "rf.joblib\n"
          ]
        }
      ]
    },
    {
      "cell_type": "code",
      "source": [
        "# load model\n",
        "loaded_rf = joblib.load(\"/content/gdrive/MyDrive/model/rf.joblib\")\n",
        "predictions2 = loaded_rf.predict(X_test)\n",
        "predictions2"
      ],
      "metadata": {
        "colab": {
          "base_uri": "https://localhost:8080/"
        },
        "id": "zP5B7K18wktF",
        "outputId": "3e8d38f6-4b84-4ddd-ccac-2a36146be8e5"
      },
      "execution_count": 20,
      "outputs": [
        {
          "output_type": "execute_result",
          "data": {
            "text/plain": [
              "array([0, 1, 0, 0, 1, 0, 1, 0, 1, 0, 0, 0, 1, 0, 1, 1, 0, 0, 1, 1, 0, 0,\n",
              "       1, 0, 1, 0, 1, 0, 0, 0, 0, 0, 0, 0, 0, 0, 1, 1, 0, 0, 0, 0, 0, 1,\n",
              "       1, 0, 0, 0, 1, 1, 0, 0, 1, 1, 0, 0, 0, 0, 0, 1, 0, 0, 0, 1, 1, 1,\n",
              "       1, 0, 0, 1, 1, 0, 1, 0, 1, 0, 0, 1, 0, 1, 0, 0, 0, 0, 0, 0, 1, 1,\n",
              "       1, 0, 1, 0, 1, 0, 0, 0, 1, 0, 1, 0, 1, 0, 0, 0, 1, 0, 0, 0, 0, 0,\n",
              "       0, 1, 1, 1, 1, 0, 0, 1, 0, 1, 1, 0, 1, 0, 0, 1, 0, 1, 0, 0, 0, 0,\n",
              "       0, 0, 0, 0, 0, 0, 1, 0, 0, 1, 1, 0, 0, 0, 0, 0, 0, 0, 1, 0, 0, 1,\n",
              "       0, 0, 1, 1, 0, 1, 1, 0, 1, 0, 0, 1, 0, 0, 1, 1, 0, 0, 0, 0, 0, 1,\n",
              "       1, 0, 1, 1, 0, 0, 1, 0, 1, 0, 1, 0, 0, 0, 0, 0, 0, 0, 1, 0, 0, 1,\n",
              "       0, 1, 1, 0, 0, 1, 0, 0, 1, 0, 1, 0, 0, 0, 0, 1, 0, 0, 1, 0, 1, 0,\n",
              "       1, 0, 1, 0, 1, 1, 0, 1, 0, 0, 0, 1, 0, 0, 0, 0, 0, 0, 1, 1, 1, 1,\n",
              "       0, 0, 0, 0, 1, 0, 1, 1, 1, 0, 0, 0, 0, 0, 0, 0, 1, 0, 0, 0, 1, 1,\n",
              "       0, 0, 0, 0, 1, 0, 0, 0, 1, 1, 0, 1, 0, 0, 0, 0, 1, 0, 1, 1, 1, 0,\n",
              "       0, 0, 0, 0, 0, 1, 0, 0, 0, 0, 1, 0, 0, 0, 0, 0, 0, 0, 1, 1, 1, 0,\n",
              "       0, 1, 0, 0, 0, 1, 1, 1, 0, 0, 0, 0, 0, 0, 0, 0, 1, 0, 1, 0, 0, 0,\n",
              "       1, 0, 0, 1, 0, 0, 0, 0, 0, 0, 0, 0, 0, 1, 0, 1, 0, 1, 0, 1, 1, 0,\n",
              "       0, 0, 0, 0, 1, 0, 0, 1, 0, 1, 1, 0, 1, 0, 0, 1, 1, 0, 0, 1, 0, 0,\n",
              "       1, 1, 1, 0, 0, 0, 0, 0, 1, 1, 0, 1, 0, 0, 0, 0, 0, 1, 0, 0, 0, 1,\n",
              "       0, 1, 0, 0, 1, 0, 1, 0, 0, 0, 0, 0, 1, 1, 1, 1, 1, 0, 1, 0, 0, 0])"
            ]
          },
          "metadata": {},
          "execution_count": 20
        }
      ]
    },
    {
      "cell_type": "markdown",
      "source": [
        "前面使用上傳的data file, 也可改成直接讀取google drive的檔案"
      ],
      "metadata": {
        "id": "ZSUDITH0xleS"
      }
    },
    {
      "cell_type": "code",
      "source": [
        "test_data = pd.read_csv(\"/content/gdrive/MyDrive/data/test.csv\")\n",
        "test_data.head(3)"
      ],
      "metadata": {
        "id": "KuM0u2QPxvc3",
        "outputId": "f50cdd6d-5b8e-4f8c-d3df-8e9355a75c6d",
        "colab": {
          "base_uri": "https://localhost:8080/",
          "height": 143
        }
      },
      "execution_count": 21,
      "outputs": [
        {
          "output_type": "execute_result",
          "data": {
            "text/plain": [
              "   PassengerId  Pclass                              Name     Sex   Age  SibSp  \\\n",
              "0          892       3                  Kelly, Mr. James    male  34.5      0   \n",
              "1          893       3  Wilkes, Mrs. James (Ellen Needs)  female  47.0      1   \n",
              "2          894       2         Myles, Mr. Thomas Francis    male  62.0      0   \n",
              "\n",
              "   Parch  Ticket    Fare Cabin Embarked  \n",
              "0      0  330911  7.8292   NaN        Q  \n",
              "1      0  363272  7.0000   NaN        S  \n",
              "2      0  240276  9.6875   NaN        Q  "
            ],
            "text/html": [
              "\n",
              "  <div id=\"df-3b78939e-2ec3-4942-97d7-fcd051f2555e\" class=\"colab-df-container\">\n",
              "    <div>\n",
              "<style scoped>\n",
              "    .dataframe tbody tr th:only-of-type {\n",
              "        vertical-align: middle;\n",
              "    }\n",
              "\n",
              "    .dataframe tbody tr th {\n",
              "        vertical-align: top;\n",
              "    }\n",
              "\n",
              "    .dataframe thead th {\n",
              "        text-align: right;\n",
              "    }\n",
              "</style>\n",
              "<table border=\"1\" class=\"dataframe\">\n",
              "  <thead>\n",
              "    <tr style=\"text-align: right;\">\n",
              "      <th></th>\n",
              "      <th>PassengerId</th>\n",
              "      <th>Pclass</th>\n",
              "      <th>Name</th>\n",
              "      <th>Sex</th>\n",
              "      <th>Age</th>\n",
              "      <th>SibSp</th>\n",
              "      <th>Parch</th>\n",
              "      <th>Ticket</th>\n",
              "      <th>Fare</th>\n",
              "      <th>Cabin</th>\n",
              "      <th>Embarked</th>\n",
              "    </tr>\n",
              "  </thead>\n",
              "  <tbody>\n",
              "    <tr>\n",
              "      <th>0</th>\n",
              "      <td>892</td>\n",
              "      <td>3</td>\n",
              "      <td>Kelly, Mr. James</td>\n",
              "      <td>male</td>\n",
              "      <td>34.5</td>\n",
              "      <td>0</td>\n",
              "      <td>0</td>\n",
              "      <td>330911</td>\n",
              "      <td>7.8292</td>\n",
              "      <td>NaN</td>\n",
              "      <td>Q</td>\n",
              "    </tr>\n",
              "    <tr>\n",
              "      <th>1</th>\n",
              "      <td>893</td>\n",
              "      <td>3</td>\n",
              "      <td>Wilkes, Mrs. James (Ellen Needs)</td>\n",
              "      <td>female</td>\n",
              "      <td>47.0</td>\n",
              "      <td>1</td>\n",
              "      <td>0</td>\n",
              "      <td>363272</td>\n",
              "      <td>7.0000</td>\n",
              "      <td>NaN</td>\n",
              "      <td>S</td>\n",
              "    </tr>\n",
              "    <tr>\n",
              "      <th>2</th>\n",
              "      <td>894</td>\n",
              "      <td>2</td>\n",
              "      <td>Myles, Mr. Thomas Francis</td>\n",
              "      <td>male</td>\n",
              "      <td>62.0</td>\n",
              "      <td>0</td>\n",
              "      <td>0</td>\n",
              "      <td>240276</td>\n",
              "      <td>9.6875</td>\n",
              "      <td>NaN</td>\n",
              "      <td>Q</td>\n",
              "    </tr>\n",
              "  </tbody>\n",
              "</table>\n",
              "</div>\n",
              "    <div class=\"colab-df-buttons\">\n",
              "\n",
              "  <div class=\"colab-df-container\">\n",
              "    <button class=\"colab-df-convert\" onclick=\"convertToInteractive('df-3b78939e-2ec3-4942-97d7-fcd051f2555e')\"\n",
              "            title=\"Convert this dataframe to an interactive table.\"\n",
              "            style=\"display:none;\">\n",
              "\n",
              "  <svg xmlns=\"http://www.w3.org/2000/svg\" height=\"24px\" viewBox=\"0 -960 960 960\">\n",
              "    <path d=\"M120-120v-720h720v720H120Zm60-500h600v-160H180v160Zm220 220h160v-160H400v160Zm0 220h160v-160H400v160ZM180-400h160v-160H180v160Zm440 0h160v-160H620v160ZM180-180h160v-160H180v160Zm440 0h160v-160H620v160Z\"/>\n",
              "  </svg>\n",
              "    </button>\n",
              "\n",
              "  <style>\n",
              "    .colab-df-container {\n",
              "      display:flex;\n",
              "      gap: 12px;\n",
              "    }\n",
              "\n",
              "    .colab-df-convert {\n",
              "      background-color: #E8F0FE;\n",
              "      border: none;\n",
              "      border-radius: 50%;\n",
              "      cursor: pointer;\n",
              "      display: none;\n",
              "      fill: #1967D2;\n",
              "      height: 32px;\n",
              "      padding: 0 0 0 0;\n",
              "      width: 32px;\n",
              "    }\n",
              "\n",
              "    .colab-df-convert:hover {\n",
              "      background-color: #E2EBFA;\n",
              "      box-shadow: 0px 1px 2px rgba(60, 64, 67, 0.3), 0px 1px 3px 1px rgba(60, 64, 67, 0.15);\n",
              "      fill: #174EA6;\n",
              "    }\n",
              "\n",
              "    .colab-df-buttons div {\n",
              "      margin-bottom: 4px;\n",
              "    }\n",
              "\n",
              "    [theme=dark] .colab-df-convert {\n",
              "      background-color: #3B4455;\n",
              "      fill: #D2E3FC;\n",
              "    }\n",
              "\n",
              "    [theme=dark] .colab-df-convert:hover {\n",
              "      background-color: #434B5C;\n",
              "      box-shadow: 0px 1px 3px 1px rgba(0, 0, 0, 0.15);\n",
              "      filter: drop-shadow(0px 1px 2px rgba(0, 0, 0, 0.3));\n",
              "      fill: #FFFFFF;\n",
              "    }\n",
              "  </style>\n",
              "\n",
              "    <script>\n",
              "      const buttonEl =\n",
              "        document.querySelector('#df-3b78939e-2ec3-4942-97d7-fcd051f2555e button.colab-df-convert');\n",
              "      buttonEl.style.display =\n",
              "        google.colab.kernel.accessAllowed ? 'block' : 'none';\n",
              "\n",
              "      async function convertToInteractive(key) {\n",
              "        const element = document.querySelector('#df-3b78939e-2ec3-4942-97d7-fcd051f2555e');\n",
              "        const dataTable =\n",
              "          await google.colab.kernel.invokeFunction('convertToInteractive',\n",
              "                                                    [key], {});\n",
              "        if (!dataTable) return;\n",
              "\n",
              "        const docLinkHtml = 'Like what you see? Visit the ' +\n",
              "          '<a target=\"_blank\" href=https://colab.research.google.com/notebooks/data_table.ipynb>data table notebook</a>'\n",
              "          + ' to learn more about interactive tables.';\n",
              "        element.innerHTML = '';\n",
              "        dataTable['output_type'] = 'display_data';\n",
              "        await google.colab.output.renderOutput(dataTable, element);\n",
              "        const docLink = document.createElement('div');\n",
              "        docLink.innerHTML = docLinkHtml;\n",
              "        element.appendChild(docLink);\n",
              "      }\n",
              "    </script>\n",
              "  </div>\n",
              "\n",
              "    </div>\n",
              "  </div>\n"
            ]
          },
          "metadata": {},
          "execution_count": 21
        }
      ]
    }
  ]
}